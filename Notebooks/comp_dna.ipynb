{
 "cells": [
  {
   "cell_type": "code",
   "execution_count": null,
   "id": "3c572915-8d2b-4500-89be-19862e4715e5",
   "metadata": {},
   "outputs": [],
   "source": [
    "Using strings, lists, tuples and dictionaries concepts, find the reverse complement of AAAAATCCCGAGGCGGCTATATAGGGCTCCGGAGGCGTAATATAAAA\n",
    "Algorithm:\n",
    "\n",
    "1. Store the DNA in a string\n",
    ".Use it as a string\n",
    ".Convert it to a list\n",
    "2.Reverse the dna string\n",
    ".reverse method on lists\n",
    ".Slice methods on lists\n",
    ".use negative indexing (slicing) on a string or list\n",
    "3.Complement:\n",
    ".For a string, we can use replace\n",
    ".Use conditionals to replace an empty list\n",
    ".use a DNA complement dictionary\n"
   ]
  },
  {
   "cell_type": "code",
   "execution_count": 2,
   "id": "c414d879-a787-47f5-900a-47ca3f9aa778",
   "metadata": {},
   "outputs": [],
   "source": [
    "dna=('AAAAATCCCGAGGCGGCTATATAGGGCTCCGGAGGCGTAATATAAAA')"
   ]
  },
  {
   "cell_type": "code",
   "execution_count": 7,
   "id": "6cc91cac-ba6c-4413-b7a8-d652defbe6e6",
   "metadata": {},
   "outputs": [
    {
     "name": "stdout",
     "output_type": "stream",
     "text": [
      "['A', 'A', 'A', 'A', 'A', 'T', 'C', 'C', 'C', 'G', 'A', 'G', 'G', 'C', 'G', 'G', 'C', 'T', 'A', 'T', 'A', 'T', 'A', 'G', 'G', 'G', 'C', 'T', 'C', 'C', 'G', 'G', 'A', 'G', 'G', 'C', 'G', 'T', 'A', 'A', 'T', 'A', 'T', 'A', 'A', 'A', 'A']\n"
     ]
    }
   ],
   "source": [
    "print(list('AAAAATCCCGAGGCGGCTATATAGGGCTCCGGAGGCGTAATATAAAA'))"
   ]
  },
  {
   "cell_type": "code",
   "execution_count": 13,
   "id": "2c385827-c076-4bc4-902d-bd8748031a6c",
   "metadata": {},
   "outputs": [
    {
     "name": "stdout",
     "output_type": "stream",
     "text": [
      "['A', 'A', 'A', 'A', 'T', 'A', 'T', 'A', 'A', 'T', 'G', 'C', 'G', 'G', 'A', 'G', 'G', 'C', 'C', 'T', 'C', 'G', 'G', 'G', 'A', 'T', 'A', 'T', 'A', 'T', 'C', 'G', 'G', 'C', 'G', 'G', 'A', 'G', 'C', 'C', 'C', 'T', 'A', 'A', 'A', 'A', 'A']\n"
     ]
    }
   ],
   "source": [
    "dna=list('AAAAATCCCGAGGCGGCTATATAGGGCTCCGGAGGCGTAATATAAAA')\n",
    "dna.reverse()\n",
    "print(dna)"
   ]
  },
  {
   "cell_type": "code",
   "execution_count": 16,
   "id": "790ae2b1-f702-4fc7-9d3e-4c6f5566796d",
   "metadata": {},
   "outputs": [
    {
     "name": "stdout",
     "output_type": "stream",
     "text": [
      "AAAATATAATGCGGAGGCCTCGGGATATATCGGCGGAGCCCTAAAAA\n"
     ]
    }
   ],
   "source": [
    "dna=('AAAAATCCCGAGGCGGCTATATAGGGCTCCGGAGGCGTAATATAAAA')\n",
    "print(dna[::-1])"
   ]
  },
  {
   "cell_type": "code",
   "execution_count": 17,
   "id": "62c359d2-765a-4cc7-a9d7-ccafec20b63e",
   "metadata": {},
   "outputs": [
    {
     "name": "stdout",
     "output_type": "stream",
     "text": [
      "['A', 'A', 'A', 'A', 'T', 'A', 'T', 'A', 'A', 'T', 'G', 'C', 'G', 'G', 'A', 'G', 'G', 'C', 'C', 'T', 'C', 'G', 'G', 'G', 'A', 'T', 'A', 'T', 'A', 'T', 'C', 'G', 'G', 'C', 'G', 'G', 'A', 'G', 'C', 'C', 'C', 'T', 'A', 'A', 'A', 'A', 'A']\n"
     ]
    }
   ],
   "source": [
    "dna=list('AAAAATCCCGAGGCGGCTATATAGGGCTCCGGAGGCGTAATATAAAA')\n",
    "print(dna[::-1])"
   ]
  },
  {
   "cell_type": "code",
   "execution_count": 11,
   "id": "19c3e2a4-a315-4cca-9bed-fea41f36fffd",
   "metadata": {},
   "outputs": [
    {
     "data": {
      "text/plain": [
       "'AAAAATCCCGAGGCGGCTATATAGGGCTCCGGAGGCGTAATATAAAA'"
      ]
     },
     "execution_count": 11,
     "metadata": {},
     "output_type": "execute_result"
    }
   ],
   "source": [
    "dna[:]"
   ]
  },
  {
   "cell_type": "code",
   "execution_count": 20,
   "id": "f267bc37-79b4-4ce5-869d-c680b3283578",
   "metadata": {},
   "outputs": [
    {
     "name": "stdout",
     "output_type": "stream",
     "text": [
      "TTTTATATTACGCCTCCGGAGCCCTATATAGCCGCCTCGGGATTTTT\n"
     ]
    }
   ],
   "source": [
    "dna=('AAAAATCCCGAGGCGGCTATATAGGGCTCCGGAGGCGTAATATAAAA')\n",
    "comp_dna=dna[::-1].replace(\"A\",\"t\").replace(\"C\",\"g\").replace(\"T\",\"a\").replace(\"G\",\"c\")\n",
    "print(comp_dna.upper())"
   ]
  },
  {
   "cell_type": "code",
   "execution_count": 8,
   "id": "7f1f6d0a-e00b-4d63-8925-340e0863b4aa",
   "metadata": {},
   "outputs": [
    {
     "data": {
      "text/plain": [
       "'ttttatattacgcctccggagccctatatagccgcctcgggattttt'"
      ]
     },
     "execution_count": 8,
     "metadata": {},
     "output_type": "execute_result"
    }
   ],
   "source": [
    "comp_dna"
   ]
  },
  {
   "cell_type": "code",
   "execution_count": 18,
   "id": "1dc57782-184e-4b15-ac70-0ac8c2726e52",
   "metadata": {},
   "outputs": [
    {
     "name": "stdout",
     "output_type": "stream",
     "text": [
      "TTTTATATTACGCCTCCGGAGCCCTATATAGCCGCCTCGGGATTTTT\n"
     ]
    }
   ],
   "source": [
    "comp_dna=('ttttatattacgcctccggagccctatatagccgcctcgggattttt')\n",
    "print(comp_dna.upper())"
   ]
  },
  {
   "cell_type": "code",
   "execution_count": 24,
   "id": "fd5f6a56-2fb3-4ed6-a57a-72fdf76364c9",
   "metadata": {},
   "outputs": [
    {
     "data": {
      "text/plain": [
       "'TTTTATATTACGCCTCCGGAGCCCTATATAGCCGCCTCGGGATTTTT'"
      ]
     },
     "execution_count": 24,
     "metadata": {},
     "output_type": "execute_result"
    }
   ],
   "source": [
    "dna=('AAAAATCCCGAGGCGGCTATATAGGGCTCCGGAGGCGTAATATAAAA')\n",
    "comp_dna=[]\n",
    "for nucl in dna:\n",
    "    if nucl =='A':\n",
    "        comp_dna.append('T')\n",
    "    if nucl =='T':\n",
    "        comp_dna.append('A')\n",
    "    if nucl =='G':\n",
    "        comp_dna.append('C')\n",
    "    if nucl =='C':\n",
    "        comp_dna.append('G')\n",
    "''.join(comp_dna[::-1])"
   ]
  },
  {
   "cell_type": "code",
   "execution_count": null,
   "id": "0353d324-d1c0-45b8-8e94-1c055cc659eb",
   "metadata": {},
   "outputs": [],
   "source": []
  },
  {
   "cell_type": "code",
   "execution_count": 24,
   "id": "b32a740a-60bd-4486-a26a-ea9dc97dd192",
   "metadata": {},
   "outputs": [
    {
     "data": {
      "text/plain": [
       "'TTTTATATTACGCCTCCGGAGCCCTATATAGCCGCCTCGGGATTTTT'"
      ]
     },
     "execution_count": 24,
     "metadata": {},
     "output_type": "execute_result"
    }
   ],
   "source": [
    "dna=('AAAAATCCCGAGGCGGCTATATAGGGCTCCGGAGGCGTAATATAAAA')\n",
    "dna.reverse"
   ]
  }
 ],
 "metadata": {
  "kernelspec": {
   "display_name": "Python 3",
   "language": "python",
   "name": "python3"
  },
  "language_info": {
   "codemirror_mode": {
    "name": "ipython",
    "version": 3
   },
   "file_extension": ".py",
   "mimetype": "text/x-python",
   "name": "python",
   "nbconvert_exporter": "python",
   "pygments_lexer": "ipython3",
   "version": "3.9.5"
  }
 },
 "nbformat": 4,
 "nbformat_minor": 5
}
